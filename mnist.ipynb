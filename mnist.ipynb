{
 "cells": [
  {
   "cell_type": "code",
   "execution_count": 10,
   "id": "c19ba8a3",
   "metadata": {},
   "outputs": [],
   "source": [
    "import tensorflow as tf\n",
    "import numpy as np\n",
    "import matplotlib.pyplot as plt\n",
    "mnist=tf.keras.datasets.mnist"
   ]
  },
  {
   "cell_type": "code",
   "execution_count": 11,
   "id": "b3be40f4",
   "metadata": {},
   "outputs": [],
   "source": [
    "(X_train,Y_train),(X_test,Y_test)=mnist.load_data()"
   ]
  },
  {
   "cell_type": "code",
   "execution_count": 12,
   "id": "48925201",
   "metadata": {},
   "outputs": [
    {
     "data": {
      "text/plain": [
       "<matplotlib.image.AxesImage at 0x19c78655760>"
      ]
     },
     "execution_count": 12,
     "metadata": {},
     "output_type": "execute_result"
    },
    {
     "data": {
      "image/png": "[encoded data removed]",
      "text/plain": [
       "<Figure size 432x288 with 1 Axes>"
      ]
     },
     "metadata": {
      "needs_background": "light"
     },
     "output_type": "display_data"
    }
   ],
   "source": [
    "plt.imshow(X_train[5794])"
   ]
  },
  {
   "cell_type": "code",
   "execution_count": 13,
   "id": "95f004f4",
   "metadata": {},
   "outputs": [
    {
     "name": "stdout",
     "output_type": "stream",
     "text": [
      "[[  0   0   0   0   0   0   0   0   0   0   0   0   0   0   0   0   0   0\n",
      "    0   0   0   0   0   0   0   0   0   0]\n",
      " [  0   0   0   0   0   0   0   0   0   0   0   0   0   0   0   0   0   0\n",
      "    0   0   0   0   0   0   0   0   0   0]\n",
      " [  0   0   0   0   0   0   0   0   0   0   0   0   0   0   0   0   0   0\n",
      "    0   0   0   0   0   0   0   0   0   0]\n",
      " [  0   0   0   0   0   0   0   0   0   0   0   0   0   0   0   0   0   0\n",
      "    0   0   0   0   0   0   0   0   0   0]\n",
      " [  0   0   0   0   0   0   0   0   0   0   0   0   0   0   0   0   0   0\n",
      "    0   0   0   0   0   0   0   0   0   0]\n",
      " [  0   0   0   0   0   0   0   0   0   0   0   0   0   0   0   0   0   0\n",
      "    0   0   0   0   0   0   0   0   0   0]\n",
      " [  0   0   0   0   0   0   0   0   0   0   0   0   0  31 193 254 253 254\n",
      "  213  21   0   0   0   0   0   0   0   0]\n",
      " [  0   0   0   0   0   0   0   0   0   0   0   0  41 173 252 253 252 253\n",
      "  252 183   0   0   0   0   0   0   0   0]\n",
      " [  0   0   0   0   0   0   0   0   0   0   0  92 233 244 203 102  20  72\n",
      "  253 142   0   0   0   0   0   0   0   0]\n",
      " [  0   0   0   0   0   0   0   0   0   0   0 233 212  81   0  21 102 193\n",
      "  171  20   0   0   0   0   0   0   0   0]\n",
      " [  0   0   0   0   0   0   0   0   0   0 123 254 151   0   0  62 122 254\n",
      "  151   0   0   0   0   0   0   0   0   0]\n",
      " [  0   0   0   0   0   0   0   0   0   0 203 253 151   0   0   0 183 253\n",
      "  111   0   0   0   0   0   0   0   0   0]\n",
      " [  0   0   0   0   0   0   0   0   0   0  41 254 213 152  71 173 253 224\n",
      "   20   0   0   0   0   0   0   0   0   0]\n",
      " [  0   0   0   0   0   0   0   0   0   0   0 172 252 253 252 253 252 203\n",
      "    0   0   0   0   0   0   0   0   0   0]\n",
      " [  0   0   0   0   0   0   0   0   0   0   0   0  82 163 203 214 253 102\n",
      "    0   0   0   0   0   0   0   0   0   0]\n",
      " [  0   0   0   0   0   0   0   0   0   0   0   0   0   0   0 253 252 102\n",
      "    0   0   0   0   0   0   0   0   0   0]\n",
      " [  0   0   0   0   0   0   0   0   0   0   0   0   0   0  82 254 233   0\n",
      "    0   0   0   0   0   0   0   0   0   0]\n",
      " [  0   0   0   0   0   0   0   0   0   0   0   0   0  41 243 253  70   0\n",
      "    0   0   0   0   0   0   0   0   0   0]\n",
      " [  0   0   0   0   0   0   0   0   0   0   0   0   0  72 253 203   0   0\n",
      "    0   0   0   0   0   0   0   0   0   0]\n",
      " [  0   0   0   0   0   0   0   0   0   0   0   0  41 233 252  81   0   0\n",
      "    0   0   0   0   0   0   0   0   0   0]\n",
      " [  0   0   0   0   0   0   0   0   0   0   0   0 123 254 233   0   0   0\n",
      "    0   0   0   0   0   0   0   0   0   0]\n",
      " [  0   0   0   0   0   0   0   0   0   0   0  21 223 253 111   0   0   0\n",
      "    0   0   0   0   0   0   0   0   0   0]\n",
      " [  0   0   0   0   0   0   0   0   0   0   0 173 253 142   0   0   0   0\n",
      "    0   0   0   0   0   0   0   0   0   0]\n",
      " [  0   0   0   0   0   0   0   0   0   0  82 253 212  20   0   0   0   0\n",
      "    0   0   0   0   0   0   0   0   0   0]\n",
      " [  0   0   0   0   0   0   0   0   0  11 213 255 131   0   0   0   0   0\n",
      "    0   0   0   0   0   0   0   0   0   0]\n",
      " [  0   0   0   0   0   0   0   0   0  51 252 192  30   0   0   0   0   0\n",
      "    0   0   0   0   0   0   0   0   0   0]\n",
      " [  0   0   0   0   0   0   0   0   0   0   0   0   0   0   0   0   0   0\n",
      "    0   0   0   0   0   0   0   0   0   0]\n",
      " [  0   0   0   0   0   0   0   0   0   0   0   0   0   0   0   0   0   0\n",
      "    0   0   0   0   0   0   0   0   0   0]]\n"
     ]
    }
   ],
   "source": [
    "print(X_train[43])"
   ]
  },
  {
   "cell_type": "code",
   "execution_count": 14,
   "id": "7aa4e3dd",
   "metadata": {},
   "outputs": [
    {
     "data": {
      "text/plain": [
       "<matplotlib.image.AxesImage at 0x19c786be580>"
      ]
     },
     "execution_count": 14,
     "metadata": {},
     "output_type": "execute_result"
    },
    {
     "data": {
      "image/png": "[encoded data removed]",
      "text/plain": [
       "<Figure size 432x288 with 1 Axes>"
      ]
     },
     "metadata": {
      "needs_background": "light"
     },
     "output_type": "display_data"
    }
   ],
   "source": [
    "plt.imshow(X_train[50])"
   ]
  },
  {
   "cell_type": "code",
   "execution_count": 15,
   "id": "22dde493",
   "metadata": {},
   "outputs": [],
   "source": [
    "X_train=tf.keras.utils.normalize(X_train,axis=1)\n",
    "X_test=tf.keras.utils.normalize(X_test,axis=1)"
   ]
  },
  {
   "cell_type": "raw",
   "id": "2eac91c2",
   "metadata": {},
   "source": []
  },
  {
   "cell_type": "code",
   "execution_count": 17,
   "id": "d0cf5a80",
   "metadata": {},
   "outputs": [],
   "source": [
    "keras=tf.keras.models.Sequential()\n",
    "keras.add(tf.keras.layers.Flatten())\n",
    "keras.add(tf.keras.layers.Dense(128,activation=tf.nn.relu))\n",
    "keras.add(tf.keras.layers.Dense(128,activation=tf.nn.relu))\n",
    "keras.add(tf.keras.layers.Dense(10,activation=tf.nn.softmax))\n",
    "\n",
    "keras.compile(optimizer='adam', loss='sparse_categorical_crossentropy',metrics=['accuracy'])"
   ]
  },
  {
   "cell_type": "code",
   "execution_count": 18,
   "id": "9d471d83",
   "metadata": {},
   "outputs": [
    {
     "name": "stdout",
     "output_type": "stream",
     "text": [
      "Epoch 1/45\n",
      "1875/1875 [==============================] - 9s 4ms/step - loss: 0.2569 - accuracy: 0.9254\n",
      "Epoch 2/45\n",
      "1875/1875 [==============================] - 6s 3ms/step - loss: 0.1043 - accuracy: 0.9676\n",
      "Epoch 3/45\n",
      "1875/1875 [==============================] - 6s 3ms/step - loss: 0.0715 - accuracy: 0.9768\n",
      "Epoch 4/45\n",
      "1875/1875 [==============================] - 6s 3ms/step - loss: 0.0521 - accuracy: 0.9834\n",
      "Epoch 5/45\n",
      "1875/1875 [==============================] - 6s 3ms/step - loss: 0.0395 - accuracy: 0.9873\n",
      "Epoch 6/45\n",
      "1875/1875 [==============================] - 6s 3ms/step - loss: 0.0309 - accuracy: 0.9898\n",
      "Epoch 7/45\n",
      "1875/1875 [==============================] - 6s 3ms/step - loss: 0.0247 - accuracy: 0.9914\n",
      "Epoch 8/45\n",
      "1875/1875 [==============================] - 7s 4ms/step - loss: 0.0198 - accuracy: 0.9933\n",
      "Epoch 9/45\n",
      "1875/1875 [==============================] - 9s 5ms/step - loss: 0.0168 - accuracy: 0.9944\n",
      "Epoch 10/45\n",
      "1875/1875 [==============================] - 8s 4ms/step - loss: 0.0149 - accuracy: 0.9950\n",
      "Epoch 11/45\n",
      "1875/1875 [==============================] - 9s 5ms/step - loss: 0.0131 - accuracy: 0.9955\n",
      "Epoch 12/45\n",
      "1875/1875 [==============================] - 7s 4ms/step - loss: 0.0123 - accuracy: 0.9957\n",
      "Epoch 13/45\n",
      "1875/1875 [==============================] - 7s 4ms/step - loss: 0.0118 - accuracy: 0.9958\n",
      "Epoch 14/45\n",
      "1875/1875 [==============================] - 7s 4ms/step - loss: 0.0107 - accuracy: 0.9963\n",
      "Epoch 15/45\n",
      "1875/1875 [==============================] - 8s 4ms/step - loss: 0.0121 - accuracy: 0.9959\n",
      "Epoch 16/45\n",
      "1875/1875 [==============================] - 8s 4ms/step - loss: 0.0074 - accuracy: 0.9975\n",
      "Epoch 17/45\n",
      "1875/1875 [==============================] - 8s 4ms/step - loss: 0.0098 - accuracy: 0.9964\n",
      "Epoch 18/45\n",
      "1875/1875 [==============================] - 7s 4ms/step - loss: 0.0068 - accuracy: 0.9977\n",
      "Epoch 19/45\n",
      "1875/1875 [==============================] - 7s 3ms/step - loss: 0.0073 - accuracy: 0.9975\n",
      "Epoch 20/45\n",
      "1875/1875 [==============================] - 7s 4ms/step - loss: 0.0081 - accuracy: 0.9973\n",
      "Epoch 21/45\n",
      "1875/1875 [==============================] - 7s 3ms/step - loss: 0.0063 - accuracy: 0.9980\n",
      "Epoch 22/45\n",
      "1875/1875 [==============================] - 7s 3ms/step - loss: 0.0075 - accuracy: 0.9975\n",
      "Epoch 23/45\n",
      "1875/1875 [==============================] - 7s 4ms/step - loss: 0.0062 - accuracy: 0.9980\n",
      "Epoch 24/45\n",
      "1875/1875 [==============================] - 6s 3ms/step - loss: 0.0072 - accuracy: 0.9978\n",
      "Epoch 25/45\n",
      "1875/1875 [==============================] - 6s 3ms/step - loss: 0.0061 - accuracy: 0.9980\n",
      "Epoch 26/45\n",
      "1875/1875 [==============================] - 6s 3ms/step - loss: 0.0052 - accuracy: 0.9982\n",
      "Epoch 27/45\n",
      "1875/1875 [==============================] - 6s 3ms/step - loss: 0.0071 - accuracy: 0.9976\n",
      "Epoch 28/45\n",
      "1875/1875 [==============================] - 6s 3ms/step - loss: 0.0054 - accuracy: 0.9984\n",
      "Epoch 29/45\n",
      "1875/1875 [==============================] - 6s 3ms/step - loss: 0.0054 - accuracy: 0.9983\n",
      "Epoch 30/45\n",
      "1875/1875 [==============================] - 6s 3ms/step - loss: 0.0064 - accuracy: 0.9983\n",
      "Epoch 31/45\n",
      "1875/1875 [==============================] - 6s 3ms/step - loss: 0.0071 - accuracy: 0.9977\n",
      "Epoch 32/45\n",
      "1875/1875 [==============================] - 6s 3ms/step - loss: 0.0049 - accuracy: 0.9982\n",
      "Epoch 33/45\n",
      "1875/1875 [==============================] - 7s 4ms/step - loss: 0.0051 - accuracy: 0.9982\n",
      "Epoch 34/45\n",
      "1875/1875 [==============================] - 7s 4ms/step - loss: 0.0065 - accuracy: 0.9980\n",
      "Epoch 35/45\n",
      "1875/1875 [==============================] - 6s 3ms/step - loss: 0.0044 - accuracy: 0.9988\n",
      "Epoch 36/45\n",
      "1875/1875 [==============================] - 6s 3ms/step - loss: 0.0058 - accuracy: 0.9984\n",
      "Epoch 37/45\n",
      "1875/1875 [==============================] - 6s 3ms/step - loss: 0.0064 - accuracy: 0.9980\n",
      "Epoch 38/45\n",
      "1875/1875 [==============================] - 6s 3ms/step - loss: 0.0051 - accuracy: 0.9985\n",
      "Epoch 39/45\n",
      "1875/1875 [==============================] - 6s 3ms/step - loss: 0.0040 - accuracy: 0.9990\n",
      "Epoch 40/45\n",
      "1875/1875 [==============================] - 6s 3ms/step - loss: 0.0062 - accuracy: 0.9982\n",
      "Epoch 41/45\n",
      "1875/1875 [==============================] - 6s 3ms/step - loss: 0.0022 - accuracy: 0.9994\n",
      "Epoch 42/45\n",
      "1875/1875 [==============================] - 6s 3ms/step - loss: 0.0068 - accuracy: 0.9978\n",
      "Epoch 43/45\n",
      "1875/1875 [==============================] - 6s 3ms/step - loss: 0.0039 - accuracy: 0.9988\n",
      "Epoch 44/45\n",
      "1875/1875 [==============================] - 6s 3ms/step - loss: 0.0062 - accuracy: 0.9983\n",
      "Epoch 45/45\n",
      "1875/1875 [==============================] - 6s 3ms/step - loss: 0.0038 - accuracy: 0.9990\n"
     ]
    },
    {
     "data": {
      "text/plain": [
       "<keras.callbacks.History at 0x19c759c4ee0>"
      ]
     },
     "execution_count": 18,
     "metadata": {},
     "output_type": "execute_result"
    }
   ],
   "source": [
    "keras.fit(X_train,Y_train,epochs=45)"
   ]
  },
  {
   "cell_type": "code",
   "execution_count": 19,
   "id": "a58eae1c",
   "metadata": {},
   "outputs": [
    {
     "name": "stdout",
     "output_type": "stream",
     "text": [
      "313/313 [==============================] - 2s 3ms/step - loss: 0.2202 - accuracy: 0.9771\n",
      "0.22016245126724243\n"
     ]
    }
   ],
   "source": [
    "val_loss, val_acc=keras.evaluate(X_test,Y_test)\n",
    "print(val_loss)"
   ]
  },
  {
   "cell_type": "code",
   "execution_count": 20,
   "id": "66fffe71",
   "metadata": {},
   "outputs": [
    {
     "name": "stdout",
     "output_type": "stream",
     "text": [
      "INFO:tensorflow:Assets written to: neuralnetwork.model\\assets\n"
     ]
    }
   ],
   "source": [
    "keras.save('neuralnetwork.model')"
   ]
  },
  {
   "cell_type": "code",
   "execution_count": 22,
   "id": "c9d6f876",
   "metadata": {},
   "outputs": [],
   "source": [
    "neuralnetwork=tf.keras.models.load_model('neuralnetwork.model')"
   ]
  },
  {
   "cell_type": "code",
   "execution_count": 25,
   "id": "b5fd0546",
   "metadata": {},
   "outputs": [
    {
     "name": "stdout",
     "output_type": "stream",
     "text": [
      "[[9.2055483e-38 3.9263765e-24 2.2557312e-27 ... 1.0000000e+00\n",
      "  1.2312930e-23 5.3205300e-24]\n",
      " [0.0000000e+00 1.7333540e-19 1.0000000e+00 ... 7.9428000e-37\n",
      "  4.4853353e-36 0.0000000e+00]\n",
      " [1.1710835e-28 1.0000000e+00 1.3490609e-21 ... 1.4128051e-15\n",
      "  1.1779986e-18 9.0233224e-25]\n",
      " ...\n",
      " [0.0000000e+00 1.0615080e-26 6.9134856e-33 ... 4.2057901e-23\n",
      "  2.6710720e-21 3.5528091e-22]\n",
      " [2.1306347e-38 7.7006248e-23 1.9787571e-29 ... 1.7907878e-25\n",
      "  4.7497539e-10 4.5875990e-31]\n",
      " [1.7457760e-27 3.0075326e-30 2.5395425e-30 ... 7.2612008e-35\n",
      "  6.9414799e-23 6.3297379e-26]]\n"
     ]
    }
   ],
   "source": [
    "prediction = neuralnetwork.predict([X_test])\n",
    "print(prediction)"
   ]
  },
  {
   "cell_type": "code",
   "execution_count": 33,
   "id": "de145b25",
   "metadata": {},
   "outputs": [
    {
     "data": {
      "text/plain": [
       "<matplotlib.image.AxesImage at 0x19c759c4c70>"
      ]
     },
     "execution_count": 33,
     "metadata": {},
     "output_type": "execute_result"
    },
    {
     "data": {
      "image/png": "[encoded data removed]",
      "text/plain": [
       "<Figure size 432x288 with 1 Axes>"
      ]
     },
     "metadata": {
      "needs_background": "light"
     },
     "output_type": "display_data"
    }
   ],
   "source": [
    "plt.imshow(X_test[37])"
   ]
  },
  {
   "cell_type": "code",
   "execution_count": 34,
   "id": "0fe13e54",
   "metadata": {},
   "outputs": [
    {
     "name": "stdout",
     "output_type": "stream",
     "text": [
      "1\n"
     ]
    }
   ],
   "source": [
    "print(np.argmax(prediction[37]))"
   ]
  },
  {
   "cell_type": "code",
   "execution_count": null,
   "id": "cc53e1c9",
   "metadata": {},
   "outputs": [],
   "source": []
  }
 ],
 "metadata": {
  "kernelspec": {
   "display_name": "Python 3 (ipykernel)",
   "language": "python",
   "name": "python3"
  },
  "language_info": {
   "codemirror_mode": {
    "name": "ipython",
    "version": 3
   },
   "file_extension": ".py",
   "mimetype": "text/x-python",
   "name": "python",
   "nbconvert_exporter": "python",
   "pygments_lexer": "ipython3",
   "version": "3.9.7"
  }
 },
 "nbformat": 4,
 "nbformat_minor": 5
}
